{
 "cells": [
  {
   "cell_type": "code",
   "execution_count": 1,
   "metadata": {},
   "outputs": [],
   "source": [
    "import json\n",
    "import pandas"
   ]
  },
  {
   "cell_type": "code",
   "execution_count": 3,
   "metadata": {},
   "outputs": [],
   "source": [
    "dicio_conversao = json.load(open('cruzamento_infosiga-lentidao.json'))"
   ]
  },
  {
   "cell_type": "code",
   "execution_count": 5,
   "metadata": {},
   "outputs": [
    {
     "data": {
      "text/plain": [
       "dict_values(['João De Luca Ver', None, None, 'Ataliba Leonel Avenida  Gal ', 'Ibirapuera Avenida', None, None, None, 'Abraão de Morais Avenida Prof Imig', None, None, None, None, None, 'Carlos Caldeira Filho Avenida', 'Caetano Alvares Avenida  Eng ', None, None, 'Corifeu de A Marques Avenida', None, 'Celso Garcia Avenida', None, None, None, None, None, None, None, None, None, None, None, None, None, None, None, None, 'Morumbi Avenida', 'Amaro Avenida Sto DEC SA', None, 'Liberdade  Vergueiro Avenida', 'Inajar de Souza Avenida', None, 'João Dias Avenida', 'Radial Leste - DEC BR', None, None, None, None, None, None, None, 'Nove de Julho Avenida', 'Fernando Vieira de Mello Túnel Reboucas ', None, None, None, 'Luis Antonio Avenida Brig', 'Raimundo Pereira de Magalhães - Norte', None, None, 'Salim Farah Maluf Avenida Tatuapé Pte', 'Atlantica AV', None, 'Francisco Morato Avenida Prof', 'Guarapiranga Avenida', 'Luiz Ignácio de Anhaia Mello Avenida Prof', None, 'Vinte Três R Berta M Guimarães', 'Estado Avenida do - DEC CT', None, None, 'Bandeirantes Avenida dos', 'Interlagos Avenida I', None, 'Washington Luis Avenida', None, 'Aricanduva Avenida Elev Pt', 'Itapecerica Est de', 'F1 - Teotonio Vilela Avenida Sen'])"
      ]
     },
     "execution_count": 5,
     "metadata": {},
     "output_type": "execute_result"
    }
   ],
   "source": [
    "dicio_conversao.values()"
   ]
  }
 ],
 "metadata": {
  "kernelspec": {
   "display_name": "dev",
   "language": "python",
   "name": "python3"
  },
  "language_info": {
   "codemirror_mode": {
    "name": "ipython",
    "version": 3
   },
   "file_extension": ".py",
   "mimetype": "text/x-python",
   "name": "python",
   "nbconvert_exporter": "python",
   "pygments_lexer": "ipython3",
   "version": "3.9.16"
  }
 },
 "nbformat": 4,
 "nbformat_minor": 2
}
